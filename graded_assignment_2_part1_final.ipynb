{
 "cells": [
  {
   "cell_type": "markdown",
   "metadata": {},
   "source": [
    "# Graded Lab Assignment 2: Evaluate classifiers (10 points)\n",
    " \n",
    "In this assignment you will optimize and compare the perfomance of a parametric (logistic regression) and non-parametric (k-nearest neighbours) classifier on the MNIST dataset.\n",
    "\n",
    "Publish your notebook (ipynb file) to your Machine Learning repository on Github ON TIME. We will check the last commit on the day of the deadline.  \n",
    "\n",
    "### Deadline Friday, November 17, 23:59.\n",
    "\n",
    "This notebook consists of three parts: design, implementation, results & analysis. \n",
    "We provide you with the design of the experiment and you have to implement it and analyse the results.\n",
    "\n",
    "### Criteria used for grading\n",
    "* Explain and analyse all results.\n",
    "* Make your notebook easy to read. When you are finished take your time to review it!\n",
    "* You do not want to repeat the same chunks of code multiply times. If your need to do so, write a function. \n",
    "* The implementation part of this assignment needs careful design before you start coding. You could start by writing pseudocode.\n",
    "* In this exercise the insights are important. Do not hide them somewhere in the comments in the implementation, but put them in the Analysis part\n",
    "* Take care that all the figures and tables are well labeled and numbered so that you can easily refer to them.\n",
    "* A plot should have a title and axes labels.\n",
    "* You may find that not everything is 100% specified in this assignment. That is correct! Like in real life you probably have to make some choices. Motivate your choices.\n"
   ]
  },
  {
   "cell_type": "markdown",
   "metadata": {},
   "source": [
    "### Grading points distribution\n",
    "\n",
    "* Implementation 5 points\n",
    "* Results and analysis 5 points"
   ]
  },
  {
   "cell_type": "markdown",
   "metadata": {},
   "source": [
    "## Design of the experiment"
   ]
  },
  {
   "cell_type": "markdown",
   "metadata": {},
   "source": [
    "You do not have to keep the order of this design and are allowed to alter it if you are confident.\n",
    "* Import all necessary modules. Try to use as much of the available functions as possible. \n",
    "* Use the provided train and test set of MNIST dataset.\n",
    "* Pre-process data eg. normalize/standardize, reformat, etc.           \n",
    "  Do whatever you think is necessary and motivate your choices.\n",
    "* (1) Train logistic regression and k-nn using default settings.\n",
    "* Use 10-fold cross validation for each classifier to optimize the performance for one parameter: \n",
    "    * consult the documentation on how cross validation works in sklearn (important functions:             cross_val_score(), GridSearchCV()).\n",
    "    * Optimize k for k-nn,\n",
    "    * for logistic regression focus on the regularization parameter,\n",
    "* (2) Train logistic regression and k-nn using optimized parameters.\n",
    "* Show performance on the cross-validation set for (1) and (2) for both classifiers: \n",
    "    * report the average cross validation error rates (alternatively, the average accuracies - it's up to you) and standard deviation,\n",
    "    * plot the average cross valildation errors (or accuracies) for different values of the parameter that you tuned. \n",
    "* Compare performance on the test set for two classifiers:\n",
    "    * produce the classification report for both classifiers, consisting of precision, recall, f1-score. Explain and analyse the results.\n",
    "    * print confusion matrix for both classifiers and compare whether they missclassify the same  classes. Explain and analyse the results.\n",
    "* Discuss your results.\n",
    "* BONUS: only continue with this part if you are confident that your implemention is complete \n",
    "    * tune more parameters of logistic regression\n",
    "    * add additional classifiers (NN, Naive Bayes, decision tree), \n",
    "    * analyse additional dataset (ex. Iris dataset)"
   ]
  },
  {
   "cell_type": "markdown",
   "metadata": {},
   "source": [
    "## Implementation of the experiment"
   ]
  },
  {
   "cell_type": "code",
   "execution_count": 1,
   "metadata": {
    "collapsed": false
   },
   "outputs": [
    {
     "name": "stdout",
     "output_type": "stream",
     "text": [
      "Populating the interactive namespace from numpy and matplotlib\n"
     ]
    }
   ],
   "source": [
    "%pylab inline"
   ]
  },
  {
   "cell_type": "code",
   "execution_count": 29,
   "metadata": {
    "collapsed": false
   },
   "outputs": [
    {
     "name": "stdout",
     "output_type": "stream",
     "text": [
      "\n",
      "# Tuning hyper-parameters for precision\n",
      "\n",
      "Best parameters set found on CV set:\n",
      "LogisticRegression:  {'C': 0.1}\n",
      "K-NN:  {'n_neighbors': 3}\n",
      "\n",
      "0.956 (+/-0.032) for {'C': 0.03}\n",
      "0.957 (+/-0.028) for {'C': 0.06}\n",
      "0.957 (+/-0.029) for {'C': 0.1}\n",
      "0.951 (+/-0.032) for {'C': 0.3}\n",
      "0.948 (+/-0.031) for {'C': 0.6}\n",
      "0.949 (+/-0.029) for {'C': 1.0}\n",
      "0.949 (+/-0.031) for {'C': 2.0}\n",
      "0.947 (+/-0.032) for {'C': 3.0}\n",
      "0.947 (+/-0.031) for {'C': 4.0}\n",
      "0.946 (+/-0.033) for {'C': 5.0}\n",
      "0.977 (+/-0.039) for {'n_neighbors': 2}\n",
      "0.978 (+/-0.038) for {'n_neighbors': 3}\n",
      "0.972 (+/-0.042) for {'n_neighbors': 4}\n",
      "0.973 (+/-0.037) for {'n_neighbors': 5}\n",
      "0.972 (+/-0.036) for {'n_neighbors': 6}\n",
      "0.972 (+/-0.035) for {'n_neighbors': 7}\n",
      "\n",
      "A Detailed classification report for Logistic Regression on the Test set:\n",
      "\n",
      "             precision    recall  f1-score   support\n",
      "\n",
      "          0       1.00      0.96      0.98        27\n",
      "          1       0.79      0.84      0.81        31\n",
      "          2       1.00      1.00      1.00        27\n",
      "          3       0.86      0.63      0.73        30\n",
      "          4       0.97      0.91      0.94        33\n",
      "          5       0.91      0.97      0.94        30\n",
      "          6       1.00      1.00      1.00        30\n",
      "          7       0.90      0.90      0.90        30\n",
      "          8       0.68      0.93      0.79        28\n",
      "          9       0.89      0.81      0.85        31\n",
      "\n",
      "avg / total       0.90      0.89      0.89       297\n",
      "\n",
      "\n",
      "A Detailed classification report for K-NN on the Test set:\n",
      "\n",
      "             precision    recall  f1-score   support\n",
      "\n",
      "          0       1.00      1.00      1.00        27\n",
      "          1       0.94      1.00      0.97        31\n",
      "          2       0.96      1.00      0.98        27\n",
      "          3       0.96      0.87      0.91        30\n",
      "          4       1.00      0.91      0.95        33\n",
      "          5       0.91      1.00      0.95        30\n",
      "          6       1.00      1.00      1.00        30\n",
      "          7       0.94      1.00      0.97        30\n",
      "          8       0.93      0.93      0.93        28\n",
      "          9       0.97      0.90      0.93        31\n",
      "\n",
      "avg / total       0.96      0.96      0.96       297\n",
      "\n",
      "\n",
      "# Tuning hyper-parameters for recall\n",
      "\n",
      "Best parameters set found on CV set:\n",
      "LogisticRegression:  {'C': 0.1}\n",
      "K-NN:  {'n_neighbors': 3}\n",
      "\n",
      "0.951 (+/-0.040) for {'C': 0.03}\n",
      "0.952 (+/-0.036) for {'C': 0.06}\n",
      "0.952 (+/-0.036) for {'C': 0.1}\n",
      "0.946 (+/-0.039) for {'C': 0.3}\n",
      "0.942 (+/-0.037) for {'C': 0.6}\n",
      "0.942 (+/-0.036) for {'C': 1.0}\n",
      "0.942 (+/-0.038) for {'C': 2.0}\n",
      "0.941 (+/-0.039) for {'C': 3.0}\n",
      "0.940 (+/-0.037) for {'C': 4.0}\n",
      "0.940 (+/-0.039) for {'C': 5.0}\n",
      "0.973 (+/-0.050) for {'n_neighbors': 2}\n",
      "0.974 (+/-0.046) for {'n_neighbors': 3}\n",
      "0.968 (+/-0.052) for {'n_neighbors': 4}\n",
      "0.969 (+/-0.044) for {'n_neighbors': 5}\n",
      "0.968 (+/-0.043) for {'n_neighbors': 6}\n",
      "0.967 (+/-0.045) for {'n_neighbors': 7}\n",
      "\n",
      "A Detailed classification report for Logistic Regression on the Test set:\n",
      "\n",
      "             precision    recall  f1-score   support\n",
      "\n",
      "          0       1.00      0.96      0.98        27\n",
      "          1       0.79      0.84      0.81        31\n",
      "          2       1.00      1.00      1.00        27\n",
      "          3       0.86      0.63      0.73        30\n",
      "          4       0.97      0.91      0.94        33\n",
      "          5       0.91      0.97      0.94        30\n",
      "          6       1.00      1.00      1.00        30\n",
      "          7       0.90      0.90      0.90        30\n",
      "          8       0.68      0.93      0.79        28\n",
      "          9       0.89      0.81      0.85        31\n",
      "\n",
      "avg / total       0.90      0.89      0.89       297\n",
      "\n",
      "\n",
      "A Detailed classification report for K-NN on the Test set:\n",
      "\n",
      "             precision    recall  f1-score   support\n",
      "\n",
      "          0       1.00      1.00      1.00        27\n",
      "          1       0.94      1.00      0.97        31\n",
      "          2       0.96      1.00      0.98        27\n",
      "          3       0.96      0.87      0.91        30\n",
      "          4       1.00      0.91      0.95        33\n",
      "          5       0.91      1.00      0.95        30\n",
      "          6       1.00      1.00      1.00        30\n",
      "          7       0.94      1.00      0.97        30\n",
      "          8       0.93      0.93      0.93        28\n",
      "          9       0.97      0.90      0.93        31\n",
      "\n",
      "avg / total       0.96      0.96      0.96       297\n",
      "\n"
     ]
    },
    {
     "data": {
      "image/png": "[encoded data removed]",
      "text/plain": [
       "<matplotlib.figure.Figure at 0x2016ffae6a0>"
      ]
     },
     "metadata": {},
     "output_type": "display_data"
    },
    {
     "data": {
      "image/png": "[encoded data removed]",
      "text/plain": [
       "<matplotlib.figure.Figure at 0x2016fea6908>"
      ]
     },
     "metadata": {},
     "output_type": "display_data"
    },
    {
     "name": "stdout",
     "output_type": "stream",
     "text": [
      "[[26  0  0  0  1  0  0  0  0]\n",
      " [ 0 26  0  2  0  0  0  0  3]\n",
      " [ 0  0 27  0  0  0  0  0  0]\n",
      " [ 0  1  0 19  0  3  0  2  5]\n",
      " [ 0  0  0  0 30  0  0  0  0]\n",
      " [ 0  1  0  0  0 29  0  0  0]\n",
      " [ 0  0  0  0  0  0 30  0  0]\n",
      " [ 0  1  0  0  0  0  0 27  2]\n",
      " [ 0  2  0  0  0  0  0  0 26]]\n",
      "\n",
      "[[27  0  0  0  0  0  0  0  0]\n",
      " [ 0 31  0  0  0  0  0  0  0]\n",
      " [ 0  0 27  0  0  0  0  0  0]\n",
      " [ 0  0  1 26  0  1  0  1  1]\n",
      " [ 0  0  0  0 30  0  0  1  1]\n",
      " [ 0  0  0  0  0 30  0  0  0]\n",
      " [ 0  0  0  0  0  0 30  0  0]\n",
      " [ 0  0  0  0  0  0  0 30  0]\n",
      " [ 0  2  0  0  0  0  0  0 26]]\n"
     ]
    }
   ],
   "source": [
    "from sklearn.datasets import load_digits\n",
    "from sklearn.preprocessing import StandardScaler\n",
    "from sklearn.linear_model import LogisticRegression\n",
    "from sklearn.neighbors import KNeighborsClassifier\n",
    "from sklearn.model_selection import cross_val_score\n",
    "from sklearn.model_selection import GridSearchCV\n",
    "from sklearn.model_selection import cross_val_predict\n",
    "from sklearn.metrics import classification_report\n",
    "from sklearn.metrics import confusion_matrix\n",
    "import matplotlib.pyplot as plt\n",
    "import scipy.stats as stats\n",
    "\n",
    "# load mnist dataset and split in train and test set.\n",
    "digits = load_digits()\n",
    "\n",
    "X_train_mnist = reshape(digits.images[:1500],(1500,64))\n",
    "X_test_mnist = reshape(digits.images[1500:],(297,64))\n",
    "y_train_mnist = digits.target[:1500]\n",
    "y_test_mnist = digits.target[1500:]\n",
    "\n",
    "\n",
    "#pre-processing data, it is necessary to normalize data to prevent bad behaviour of estimators\n",
    "#due to individual features not adhering to a Gaussian distribution\n",
    "\n",
    "stats.normaltest(X_train_mnist) #Use the normaltest() function to check if the data has a Normal distribution\n",
    "                                #It turns out the data doesn't have a Normal dist. so we normalize the data\n",
    "scaler = StandardScaler() \n",
    "scaler.fit(X_train_mnist)\n",
    "\n",
    "\n",
    "# Set the parameters by cross-validation\n",
    "tuned_parameters_logreg = [{'C':[0.03, 0.06, 0.1, 0.3, 0.6, 1.0, 2.0, 3.0, 4.0, 5.0]}]\n",
    "tuned_parameters_knnreg = [{'n_neighbors': [2, 3, 4, 5, 6, 7]}]\n",
    "\n",
    "scores = ['precision', 'recall']\n",
    "\n",
    "for score in scores:\n",
    "    print()\n",
    "    print(\"# Tuning hyper-parameters for %s\" % score)\n",
    "    print()\n",
    "    \n",
    "    #Loading and Training Logistic Regression and K-NN\n",
    "    logreg = GridSearchCV(LogisticRegression(), tuned_parameters_logreg, cv=10, scoring='%s_macro' % score)\n",
    "    #Loading in\n",
    "    logreg.fit(X_train_mnist, y_train_mnist) \n",
    "    #Training\n",
    "    \n",
    "    knnreg = GridSearchCV(KNeighborsClassifier(), tuned_parameters_knnreg, cv=10, scoring='%s_macro' % score)\n",
    "    knnreg.fit(X_train_mnist, y_train_mnist)\n",
    "    \n",
    "    print(\"Best parameters set found on CV set:\")\n",
    "    print(\"LogisticRegression: \", logreg.best_params_)\n",
    "    print(\"K-NN: \", knnreg.best_params_)\n",
    "    print()\n",
    "    print(\"Grid scores on validation set\")\n",
    "    \n",
    "    means_logreg = logreg.cv_results_['mean_test_score'] #Array of average validation scores on the CV sets\n",
    "    stds_logreg = logreg.cv_results_['std_test_score'] #Array of Standard Deviations of the scores on the CV sets\n",
    "    \n",
    "    means_knnreg = knnreg.cv_results_['mean_test_score']\n",
    "    stds_knnreg = knnreg.cv_results_['std_test_score']\n",
    "    \n",
    "    for mean, std, params in zip(means_logreg, stds_logreg, logreg.cv_results_['params']):\n",
    "        print(\"%0.3f (+/-%0.03f) for %r\"\n",
    "              % (mean, std * 2, params))\n",
    "        \n",
    "    for mean, std, params in zip(means_knnreg, stds_knnreg, knnreg.cv_results_['params']):\n",
    "        print(\"%0.3f (+/-%0.03f) for %r\"\n",
    "              % (mean, std * 2, params))\n",
    "        \n",
    "    print()\n",
    "    print(\"A Detailed classification report for Logistic Regression on the Test set:\")\n",
    "    print()\n",
    "    y_true, y_pred = y_test_mnist, logreg.predict(X_test_mnist) #Creates a classification report for LogReg then for K-NN\n",
    "    print(classification_report(y_true, y_pred))\n",
    "    print()\n",
    "    print(\"A Detailed classification report for K-NN on the Test set:\")\n",
    "    print()\n",
    "    y_true, y_pred = y_test_mnist, knnreg.predict(X_test_mnist)\n",
    "    print(classification_report(y_true, y_pred))\n",
    "\n",
    "\n",
    "#Scores computed by LogisticRegression and K-NN on the CV set\n",
    "scores_logreg = cross_val_score(logreg, X_train_mnist, y_train_mnist, cv=10)\n",
    "scores_knnreg = cross_val_score(knnreg, X_train_mnist, y_train_mnist, cv=10)\n",
    "\n",
    "#Plotting the Scores vs. the parameters that we are tuning\n",
    "plt.plot(tuned_parameters_logreg[0][\"C\"], means_logreg)\n",
    "plt.title('Score vs. Regularization parameter in the validation sets')\n",
    "plt.xlabel('C')\n",
    "plt.ylabel('Score')\n",
    "plt.show()\n",
    "\n",
    "plt.plot(tuned_parameters_knnreg[0][\"n_neighbors\"], means_knnreg)\n",
    "plt.title('Score vs. Amount of nearest neighbours')\n",
    "plt.xlabel('#n-neighbours')\n",
    "plt.ylabel('Score')\n",
    "plt.show()\n",
    "\n",
    "#Creating a Confusion Matrix for Logistic Regression and K-NN\n",
    "labels = array(range(9))\n",
    "\n",
    "y_true, y_pred = y_test_mnist, logreg.predict(X_test_mnist)\n",
    "cm_logreg = confusion_matrix(y_true, y_pred, labels=labels)\n",
    "\n",
    "y_true, y_pred = y_test_mnist, knnreg.predict(X_test_mnist)\n",
    "cm_knnreg = confusion_matrix(y_true, y_pred, labels=labels)\n",
    "\n",
    "print('Confusion matrix for Logistic Regression')\n",
    "print(cm_logreg)\n",
    "print()\n",
    "print('Confusion matrix for K-NN')\n",
    "print(cm_knnreg)\n",
    "\n",
    "print()\n",
    "print(\"Scores of the estimators, LogReg and KNN respectively, computed on the test set:\")\n",
    "y_true, y_pred = y_test_mnist, logreg.predict(X_test_mnist)\n",
    "logreg_score = accuracy_score(y_true, y_pred)\n",
    "\n",
    "y_true, y_pred = y_test_mnist, knnreg.predict(X_test_mnist)\n",
    "knn_score = accuracy_score(y_true, y_pred)\n",
    "print(logreg_score, knn_score)"
   ]
  },
  {
   "cell_type": "markdown",
   "metadata": {},
   "source": [
    "# Results and analysis of the experiment"
   ]
  },
  {
   "cell_type": "markdown",
   "metadata": {
    "collapsed": true
   },
   "source": [
    "## Discuss the results\n",
    "For this assignment we used the built-in LogisticRegression and K-NN classifiers to predict the digits in the mnist dataset given an array of values (X). In order to estimate how well our model has been trained on the optimized parameters we used cross-validation. To be able to analyse the results of the classifiers we had to produce a classification report which states the precision, recall, and f1-score. \n",
    "\n",
    "The F1-score is a combined measure that assesses the trade-off between Precision and Recall. The way the F1-score is calculated is beyond the scope of this analysis. \n",
    "\n",
    "For Logistic Regression there seems to be a steady decrease in Score as the regularization parameter C increases. It is important to note that a lower C value indicates stronger regularization. So in our case stronger regularization was deemed necessary to best fit the data. The optimal C value turned out to be 0.1, this seemingly arbitrary number was chosen because it was in our list of discrete tuned parameters. Had we chosen to go for a list of continuous tuned parameters the optimal value of our C value might have changed slightly. It is also important to note that in this case we only optimized the regularization parameter. This might have had an effect on the accuracy of the predictions of Logistic Regression.\n",
    "As for the classification reports of Logistic Regression, we see that the precision and recall for some individual digits is much lower compared to others. However, averaging over the whole dataset the precision and recall is pretty high, due to certain digits having perfect precision and recall. These cases of perfect precision and recall bring up the average, but aren't representative of the individual predictions. \n",
    "\n",
    "Statistically, the K-NN classifier has a higher chance of predicting the correct value, a score of 0.892 vs 0.959. This is backed up by the fact that the precision and recall values are a lot higher. It can also be seen in the confusion matrices of the two classifiers, Logistic regression missclassifies numbers more often than K-NN does. \n",
    "\n",
    "Conclusion, the K-NN classifier is the better option to predict the digits of the mnist dataset in this case, however, if we tuned more parameters of the Logistic Regression classifier the chances are that the score of that particular classifier would go up. \n",
    "\n",
    "\n"
   ]
  },
  {
   "cell_type": "markdown",
   "metadata": {},
   "source": [
    "## Testing"
   ]
  },
  {
   "cell_type": "code",
   "execution_count": 30,
   "metadata": {
    "collapsed": false
   },
   "outputs": [
    {
     "data": {
      "text/plain": [
       "array([ 0.90833333,  0.9       ,  0.9       ,  0.9       ,  0.86666667,\n",
       "        0.9       ,  0.96666667,  0.93333333,  0.95      ,  1.        ])"
      ]
     },
     "execution_count": 30,
     "metadata": {},
     "output_type": "execute_result"
    }
   ],
   "source": [
    "\n",
    "cross_val_score(logreg, X_test_mnist, y_test_mnist, cv=10)"
   ]
  },
  {
   "cell_type": "code",
   "execution_count": 5,
   "metadata": {
    "collapsed": false
   },
   "outputs": [
    {
     "data": {
      "text/plain": [
       "array([ 0.90833333,  0.9       ,  0.9       ,  0.9       ,  0.86666667,\n",
       "        0.9       ,  0.96666667,  0.93333333,  0.95      ,  1.        ])"
      ]
     },
     "execution_count": 5,
     "metadata": {},
     "output_type": "execute_result"
    }
   ],
   "source": [
    "scores_logreg"
   ]
  },
  {
   "cell_type": "code",
   "execution_count": 6,
   "metadata": {
    "collapsed": false
   },
   "outputs": [
    {
     "data": {
      "text/plain": [
       "{'mean_fit_time': array([ 0.00275254,  0.00290489,  0.0029541 ,  0.00285683,  0.00295277,\n",
       "         0.00285354]),\n",
       " 'mean_score_time': array([ 0.0166189 ,  0.01711633,  0.01776819,  0.01776195,  0.01761594,\n",
       "         0.01781533]),\n",
       " 'mean_test_score': array([ 0.97309468,  0.97447575,  0.9678152 ,  0.9691277 ,  0.96842802,\n",
       "         0.96708135]),\n",
       " 'mean_train_score': array([ 0.99138678,  0.99379671,  0.99245169,  0.99143622,  0.99090406,\n",
       "         0.99045784]),\n",
       " 'param_n_neighbors': masked_array(data = [2 3 4 5 6 7],\n",
       "              mask = [False False False False False False],\n",
       "        fill_value = ?),\n",
       " 'params': ({'n_neighbors': 2},\n",
       "  {'n_neighbors': 3},\n",
       "  {'n_neighbors': 4},\n",
       "  {'n_neighbors': 5},\n",
       "  {'n_neighbors': 6},\n",
       "  {'n_neighbors': 7}),\n",
       " 'rank_test_score': array([2, 1, 5, 3, 4, 6]),\n",
       " 'split0_test_score': array([ 0.92083333,  0.92708333,  0.91458333,  0.92083333,  0.92083333,\n",
       "         0.91416667]),\n",
       " 'split0_train_score': array([ 0.99399567,  0.99476926,  0.99327672,  0.99180605,  0.99104822,\n",
       "         0.99104261]),\n",
       " 'split1_test_score': array([ 0.98666667,  1.        ,  0.98666667,  0.98666667,  0.98666667,\n",
       "         0.98666667]),\n",
       " 'split1_train_score': array([ 0.99024112,  0.9910318 ,  0.99101471,  0.99179441,  0.98803441,\n",
       "         0.98952134]),\n",
       " 'split2_test_score': array([ 0.99333333,  0.99333333,  0.96666667,  0.97333333,  0.96666667,\n",
       "         0.95333333]),\n",
       " 'split2_train_score': array([ 0.99025821,  0.993265  ,  0.99102619,  0.99105887,  0.99105887,\n",
       "         0.99031252]),\n",
       " 'split3_test_score': array([ 0.97333333,  0.98      ,  0.98      ,  0.96666667,  0.97333333,\n",
       "         0.98      ]),\n",
       " 'split3_train_score': array([ 0.99249702,  0.99623373,  0.99399492,  0.99254004,  0.99254004,\n",
       "         0.99179929]),\n",
       " 'split4_test_score': array([ 0.97333333,  0.97333333,  0.97333333,  0.96666667,  0.96666667,\n",
       "         0.96666667]),\n",
       " 'split4_train_score': array([ 0.99173977,  0.993265  ,  0.99251873,  0.99106945,  0.99105236,\n",
       "         0.99033325]),\n",
       " 'split5_test_score': array([ 0.93333333,  0.94666667,  0.93333333,  0.94666667,  0.94666667,\n",
       "         0.95333333]),\n",
       " 'split5_train_score': array([ 0.99176784,  0.99477462,  0.99328209,  0.99108093,  0.9918272 ,\n",
       "         0.9918272 ]),\n",
       " 'split6_test_score': array([ 0.99333333,  0.97333333,  0.98      ,  0.97333333,  0.98      ,\n",
       "         0.97333333]),\n",
       " 'split6_train_score': array([ 0.99101052,  0.99252477,  0.9917785 ,  0.99032922,  0.99031792,\n",
       "         0.98957157]),\n",
       " 'split7_test_score': array([ 0.97285714,  0.95952381,  0.95285714,  0.96619048,  0.95952381,\n",
       "         0.96619048]),\n",
       " 'split7_train_score': array([ 0.99251437,  0.99403992,  0.99328234,  0.99178981,  0.9917785 ,\n",
       "         0.99103215]),\n",
       " 'split8_test_score': array([ 1.,  1.,  1.,  1.,  1.,  1.]),\n",
       " 'split8_train_score': array([ 0.98951798,  0.99402861,  0.99178981,  0.99106517,  0.99105386,\n",
       "         0.98955555]),\n",
       " 'split9_test_score': array([ 0.98619048,  0.99333333,  0.99333333,  0.99333333,  0.98619048,\n",
       "         0.97952381]),\n",
       " 'split9_train_score': array([ 0.99032531,  0.99403438,  0.9925529 ,  0.99182826,  0.99032922,\n",
       "         0.98958295]),\n",
       " 'std_fit_time': array([ 0.0002502 ,  0.00020146,  0.00026907,  0.00032835,  0.00015011,\n",
       "         0.00023007]),\n",
       " 'std_score_time': array([ 0.00058311,  0.00037473,  0.00075055,  0.00074744,  0.00030079,\n",
       "         0.00071488]),\n",
       " 'std_test_score': array([ 0.02508078,  0.02314416,  0.02585158,  0.02189302,  0.02164268,\n",
       "         0.02255621]),\n",
       " 'std_train_score': array([ 0.00130104,  0.00133561,  0.00097184,  0.00059401,  0.00115288,\n",
       "         0.00087322])}"
      ]
     },
     "execution_count": 6,
     "metadata": {},
     "output_type": "execute_result"
    }
   ],
   "source": [
    "knnreg.cv_results_"
   ]
  },
  {
   "cell_type": "code",
   "execution_count": 7,
   "metadata": {
    "collapsed": false
   },
   "outputs": [
    {
     "ename": "NameError",
     "evalue": "name 'acc_knnreg' is not defined",
     "output_type": "error",
     "traceback": [
      "\u001b[0;31m---------------------------------------------------------------------------\u001b[0m",
      "\u001b[0;31mNameError\u001b[0m                                 Traceback (most recent call last)",
      "\u001b[0;32m<ipython-input-7-748571492b82>\u001b[0m in \u001b[0;36m<module>\u001b[0;34m()\u001b[0m\n\u001b[0;32m----> 1\u001b[0;31m \u001b[0macc_knnreg\u001b[0m\u001b[1;33m\u001b[0m\u001b[0m\n\u001b[0m",
      "\u001b[0;31mNameError\u001b[0m: name 'acc_knnreg' is not defined"
     ]
    }
   ],
   "source": [
    "acc_knnreg"
   ]
  },
  {
   "cell_type": "code",
   "execution_count": null,
   "metadata": {
    "collapsed": false
   },
   "outputs": [],
   "source": [
    "logreg.best_params_"
   ]
  },
  {
   "cell_type": "code",
   "execution_count": null,
   "metadata": {
    "collapsed": false
   },
   "outputs": [],
   "source": [
    "tuned_parameters_logreg[0][\"C\"]\n"
   ]
  },
  {
   "cell_type": "code",
   "execution_count": null,
   "metadata": {
    "collapsed": false
   },
   "outputs": [],
   "source": [
    "X_train_mnist[1]\n",
    "\n"
   ]
  },
  {
   "cell_type": "code",
   "execution_count": null,
   "metadata": {
    "collapsed": true
   },
   "outputs": [],
   "source": [
    "tuned_parameters_logreg[0][\"C\"]\n"
   ]
  },
  {
   "cell_type": "code",
   "execution_count": 8,
   "metadata": {
    "collapsed": false
   },
   "outputs": [
    {
     "data": {
      "text/plain": [
       "array([ 0.9510754 ,  0.9517046 ,  0.95240937,  0.9457502 ,  0.94240163,\n",
       "        0.94236746,  0.94234079,  0.94103159,  0.93968746,  0.93966524])"
      ]
     },
     "execution_count": 8,
     "metadata": {},
     "output_type": "execute_result"
    }
   ],
   "source": [
    "means_logreg"
   ]
  },
  {
   "cell_type": "code",
   "execution_count": 28,
   "metadata": {
    "collapsed": false
   },
   "outputs": [
    {
     "name": "stdout",
     "output_type": "stream",
     "text": [
      "[[26  0  0  0  1  0  0  0  0]\n",
      " [ 0 26  0  2  0  0  0  0  3]\n",
      " [ 0  0 27  0  0  0  0  0  0]\n",
      " [ 0  1  0 19  0  3  0  2  5]\n",
      " [ 0  0  0  0 30  0  0  0  0]\n",
      " [ 0  1  0  0  0 29  0  0  0]\n",
      " [ 0  0  0  0  0  0 30  0  0]\n",
      " [ 0  1  0  0  0  0  0 27  2]\n",
      " [ 0  2  0  0  0  0  0  0 26]]\n",
      "\n",
      "[[27  0  0  0  0  0  0  0  0]\n",
      " [ 0 31  0  0  0  0  0  0  0]\n",
      " [ 0  0 27  0  0  0  0  0  0]\n",
      " [ 0  0  1 26  0  1  0  1  1]\n",
      " [ 0  0  0  0 30  0  0  1  1]\n",
      " [ 0  0  0  0  0 30  0  0  0]\n",
      " [ 0  0  0  0  0  0 30  0  0]\n",
      " [ 0  0  0  0  0  0  0 30  0]\n",
      " [ 0  2  0  0  0  0  0  0 26]]\n"
     ]
    }
   ],
   "source": [
    "from sklearn.metrics import confusion_matrix\n",
    "\n",
    "labels = array(range(9))\n",
    "\n",
    "y_true, y_pred = y_test_mnist, logreg.predict(X_test_mnist)\n",
    "cm_logreg = confusion_matrix(y_true, y_pred, labels=labels)\n",
    "\n",
    "y_true, y_pred = y_test_mnist, knnreg.predict(X_test_mnist)\n",
    "cm_knnreg = confusion_matrix(y_true, y_pred, labels=labels)\n",
    "\n",
    "print(cm_logreg)\n",
    "print()\n",
    "print(cm_knnreg)"
   ]
  },
  {
   "cell_type": "code",
   "execution_count": 16,
   "metadata": {
    "collapsed": false
   },
   "outputs": [
    {
     "data": {
      "text/plain": [
       "array([1, 7, 4, 6, 3, 1, 3, 9, 1, 7, 6, 8, 4, 3, 1, 4, 0, 5, 3, 6, 9, 6, 1,\n",
       "       7, 5, 4, 4, 7, 2, 8, 2, 2, 5, 7, 9, 5, 4, 8, 8, 4, 9, 0, 8, 9, 8, 0,\n",
       "       1, 2, 3, 4, 5, 6, 7, 8, 9, 0, 1, 2, 3, 4, 5, 6, 9, 0, 1, 2, 3, 4, 5,\n",
       "       6, 7, 8, 9, 0, 9, 5, 5, 6, 5, 0, 9, 8, 9, 8, 4, 1, 7, 7, 3, 5, 1, 0,\n",
       "       0, 2, 2, 7, 8, 2, 0, 1, 2, 6, 3, 3, 7, 3, 3, 4, 6, 6, 6, 4, 9, 1, 5,\n",
       "       0, 9, 5, 2, 8, 0, 1, 7, 6, 3, 2, 1, 7, 4, 6, 3, 1, 3, 9, 1, 7, 6, 8,\n",
       "       4, 3, 1, 4, 0, 5, 3, 6, 9, 6, 1, 7, 5, 4, 4, 7, 2, 2, 5, 7, 9, 5, 4,\n",
       "       4, 9, 0, 8, 9, 8, 0, 1, 2, 3, 4, 5, 6, 7, 8, 9, 0, 1, 2, 3, 4, 5, 6,\n",
       "       7, 8, 9, 0, 1, 2, 3, 4, 5, 6, 7, 8, 9, 0, 9, 5, 5, 6, 5, 0, 9, 8, 9,\n",
       "       8, 4, 1, 7, 7, 3, 5, 1, 0, 0, 2, 2, 7, 8, 2, 0, 1, 2, 6, 3, 3, 7, 3,\n",
       "       3, 4, 6, 6, 6, 4, 9, 1, 5, 0, 9, 5, 2, 8, 2, 0, 0, 1, 7, 6, 3, 2, 1,\n",
       "       7, 4, 6, 3, 1, 3, 9, 1, 7, 6, 8, 4, 3, 1, 4, 0, 5, 3, 6, 9, 6, 1, 7,\n",
       "       5, 4, 4, 7, 2, 8, 2, 2, 5, 7, 9, 5, 4, 8, 8, 4, 9, 0, 8, 9, 8])"
      ]
     },
     "execution_count": 16,
     "metadata": {},
     "output_type": "execute_result"
    }
   ],
   "source": [
    "y_test_mnist"
   ]
  },
  {
   "cell_type": "code",
   "execution_count": 23,
   "metadata": {
    "collapsed": false
   },
   "outputs": [
    {
     "data": {
      "text/plain": [
       "array([0, 1, 2, 3, 4, 5, 6, 7, 8])"
      ]
     },
     "execution_count": 23,
     "metadata": {},
     "output_type": "execute_result"
    }
   ],
   "source": [
    "a = array(range(9))\n",
    "a"
   ]
  },
  {
   "cell_type": "code",
   "execution_count": 34,
   "metadata": {
    "collapsed": false
   },
   "outputs": [
    {
     "data": {
      "text/plain": [
       "0.95959595959595956"
      ]
     },
     "execution_count": 34,
     "metadata": {},
     "output_type": "execute_result"
    }
   ],
   "source": [
    "from sklearn.metrics import accuracy_score\n",
    "\n",
    "y_true, y_pred = y_test_mnist, knnreg.predict(X_test_mnist)\n",
    "accuracy_score(y_true, y_pred)"
   ]
  },
  {
   "cell_type": "code",
   "execution_count": null,
   "metadata": {
    "collapsed": true
   },
   "outputs": [],
   "source": []
  }
 ],
 "metadata": {
  "kernelspec": {
   "display_name": "Python 3",
   "language": "python",
   "name": "python3"
  },
  "language_info": {
   "codemirror_mode": {
    "name": "ipython",
    "version": 3
   },
   "file_extension": ".py",
   "mimetype": "text/x-python",
   "name": "python",
   "nbconvert_exporter": "python",
   "pygments_lexer": "ipython3",
   "version": "3.6.0"
  }
 },
 "nbformat": 4,
 "nbformat_minor": 2
}
