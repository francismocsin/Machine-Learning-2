{
 "cells": [
  {
   "cell_type": "markdown",
   "metadata": {},
   "source": [
    "# Graded Lab Assignment 2: Evaluate classifiers (10 points)\n",
    " \n",
    "In this assignment you will optimize and compare the perfomance of a parametric (logistic regression) and non-parametric (k-nearest neighbours) classifier on the MNIST dataset.\n",
    "\n",
    "Publish your notebook (ipynb file) to your Machine Learning repository on Github ON TIME. We will check the last commit on the day of the deadline.  \n",
    "\n",
    "### Deadline Friday, November 17, 23:59.\n",
    "\n",
    "This notebook consists of three parts: design, implementation, results & analysis. \n",
    "We provide you with the design of the experiment and you have to implement it and analyse the results.\n",
    "\n",
    "### Criteria used for grading\n",
    "* Explain and analyse all results.\n",
    "* Make your notebook easy to read. When you are finished take your time to review it!\n",
    "* You do not want to repeat the same chunks of code multiply times. If your need to do so, write a function. \n",
    "* The implementation part of this assignment needs careful design before you start coding. You could start by writing pseudocode.\n",
    "* In this exercise the insights are important. Do not hide them somewhere in the comments in the implementation, but put them in the Analysis part\n",
    "* Take care that all the figures and tables are well labeled and numbered so that you can easily refer to them.\n",
    "* A plot should have a title and axes labels.\n",
    "* You may find that not everything is 100% specified in this assignment. That is correct! Like in real life you probably have to make some choices. Motivate your choices.\n"
   ]
  },
  {
   "cell_type": "markdown",
   "metadata": {},
   "source": [
    "### Grading points distribution\n",
    "\n",
    "* Implementation 5 points\n",
    "* Results and analysis 5 points"
   ]
  },
  {
   "cell_type": "markdown",
   "metadata": {},
   "source": [
    "## Design of the experiment"
   ]
  },
  {
   "cell_type": "markdown",
   "metadata": {},
   "source": [
    "You do not have to keep the order of this design and are allowed to alter it if you are confident.\n",
    "* Import all necessary modules. Try to use as much of the available functions as possible. \n",
    "* Use the provided train and test set of MNIST dataset.\n",
    "* Pre-process data eg. normalize/standardize, reformat, etc.           \n",
    "  Do whatever you think is necessary and motivate your choices.\n",
    "* (1) Train logistic regression and k-nn using default settings.\n",
    "* Use 10-fold cross validation for each classifier to optimize the performance for one parameter: \n",
    "    * consult the documentation on how cross validation works in sklearn (important functions:             cross_val_score(), GridSearchCV()).\n",
    "    * Optimize k for k-nn,\n",
    "    * for logistic regression focus on the regularization parameter,\n",
    "* (2) Train logistic regression and k-nn using optimized parameters.\n",
    "* Show performance on the cross-validation set for (1) and (2) for both classifiers: \n",
    "    * report the average cross validation error rates (alternatively, the average accuracies - it's up to you) and standard deviation,\n",
    "    * plot the average cross valildation errors (or accuracies) for different values of the parameter that you tuned. \n",
    "* Compare performance on the test set for two classifiers:\n",
    "    * produce the classification report for both classifiers, consisting of precision, recall, f1-score. Explain and analyse the results.\n",
    "    * print confusion matrix for both classifiers and compare whether they missclassify the same  classes. Explain and analyse the results.\n",
    "* Discuss your results.\n",
    "* BONUS: only continue with this part if you are confident that your implemention is complete \n",
    "    * tune more parameters of logistic regression\n",
    "    * add additional classifiers (NN, Naive Bayes, decision tree), \n",
    "    * analyse additional dataset (ex. Iris dataset)"
   ]
  },
  {
   "cell_type": "markdown",
   "metadata": {},
   "source": [
    "## Implementation of the experiment"
   ]
  },
  {
   "cell_type": "code",
   "execution_count": 2,
   "metadata": {
    "collapsed": false
   },
   "outputs": [
    {
     "name": "stdout",
     "output_type": "stream",
     "text": [
      "Populating the interactive namespace from numpy and matplotlib\n"
     ]
    }
   ],
   "source": [
    "%pylab inline"
   ]
  },
  {
   "cell_type": "code",
   "execution_count": 21,
   "metadata": {
    "collapsed": false
   },
   "outputs": [
    {
     "data": {
      "text/plain": [
       "KNeighborsClassifier(algorithm='auto', leaf_size=30, metric='minkowski',\n",
       "           metric_params=None, n_jobs=1, n_neighbors=5, p=2,\n",
       "           weights='uniform')"
      ]
     },
     "execution_count": 21,
     "metadata": {},
     "output_type": "execute_result"
    }
   ],
   "source": [
    "from sklearn.datasets import load_digits\n",
    "from sklearn.preprocessing import StandardScaler\n",
    "from sklearn.linear_model import LogisticRegression\n",
    "from sklearn.neighbors import KNeighborsClassifier\n",
    "from sklearn.model_selection import cross_val_score\n",
    "import scipy.stats as stats\n",
    "\n",
    "# load mnist dataset and split in train and test set.\n",
    "digits = load_digits()\n",
    "\n",
    "X_train_mnist = reshape(digits.images[:1500],(1500,64))\n",
    "X_test_mnist = reshape(digits.images[1500:],(297,64))\n",
    "y_train_mnist = digits.target[:1500]\n",
    "y_test_mnist = digits.target[1500:]\n",
    "\n",
    "\n",
    "#pre-processing data, it is necessary to normalize data to prevent bad behaviour of estimators\n",
    "#due to individual features not adhering to a Gaussian distribution\n",
    "\n",
    "stats.normaltest(X_train_mnist) #Use the normaltest() function to check if the data has a Normal distribution\n",
    "                                #It turns out the data doesn't have a Normal dist. so we normalize the data\n",
    "scaler = StandardScaler() \n",
    "scaler.fit(X_train_mnist)\n",
    "\n",
    "\n",
    "#Loading in Logistic Regression and K-NN\n",
    "logreg = LogisticRegression()\n",
    "knnreg = KNeighborsClassifier()\n",
    "\n",
    "#Training Logistic Regression and K-NN\n",
    "logreg.fit(X_train_mnist, y_train_mnist)\n",
    "knnreg.fit(X_train_mnist, y_train_mnist)\n",
    "\n",
    "# your implementation here"
   ]
  },
  {
   "cell_type": "markdown",
   "metadata": {},
   "source": [
    "## Results and analysis of the experiment"
   ]
  },
  {
   "cell_type": "code",
   "execution_count": 14,
   "metadata": {
    "collapsed": true
   },
   "outputs": [],
   "source": [
    "# discuss the results"
   ]
  },
  {
   "cell_type": "markdown",
   "metadata": {},
   "source": [
    "##Testing"
   ]
  },
  {
   "cell_type": "code",
   "execution_count": 18,
   "metadata": {
    "collapsed": false
   },
   "outputs": [
    {
     "data": {
      "text/plain": [
       "NormaltestResult(statistic=array([  1.00390819e+00,   1.23876220e+03,   2.12277796e+02,\n",
       "         2.58245810e+02,   2.39676670e+02,   1.27746847e+03,\n",
       "         8.41743480e+02,   2.24208619e+03,   3.09145770e+03,\n",
       "         4.50409917e+02,   2.74446212e+02,   1.39346795e+02,\n",
       "         2.03444861e+02,   6.09626778e+00,   6.64528583e+02,\n",
       "         2.25671962e+03,   3.55598342e+03,   3.07284555e+02,\n",
       "         5.60494644e+02,   8.87065342e+04,   1.43314789e+01,\n",
       "         1.10651821e+00,   6.64921589e+02,   2.41804166e+03,\n",
       "         3.82169286e+03,   2.21653648e+02,   2.53951140e+01,\n",
       "         7.07593108e+00,   1.70282614e+03,   2.37567038e+00,\n",
       "         3.82753159e+02,   3.28498534e+03,   1.00390819e+00,\n",
       "         3.27710120e+02,   1.18070634e+00,   1.58130564e+01,\n",
       "         5.69079779e+02,   2.19301384e+01,   1.86311935e+02,\n",
       "         1.00390819e+00,   3.37096319e+03,   7.29741469e+02,\n",
       "         1.31283623e+01,   9.76358899e+00,   2.84808996e+00,\n",
       "         9.21782537e+00,   1.75280536e+02,   2.80206374e+03,\n",
       "         4.09018323e+03,   1.21579626e+03,   7.61789759e-02,\n",
       "         7.13586960e+02,   2.01821247e+03,   2.20707544e+01,\n",
       "         1.94060515e+02,   1.74053657e+03,   4.38782888e+03,\n",
       "         1.31028867e+03,   3.31770885e+02,   3.06295477e+02,\n",
       "         2.73848740e+02,   6.57290765e+00,   5.65366466e+02,\n",
       "         1.62622231e+03]), pvalue=array([  6.05346597e-001,   1.01439446e-269,   8.02531784e-047,\n",
       "         8.36825490e-057,   9.01306081e-053,   3.99251469e-278,\n",
       "         1.65091921e-183,   0.00000000e+000,   0.00000000e+000,\n",
       "         1.56577416e-098,   2.53958202e-060,   5.51096775e-031,\n",
       "         6.64522525e-045,   4.74473837e-002,   5.00554772e-145,\n",
       "         0.00000000e+000,   0.00000000e+000,   1.87934579e-067,\n",
       "         1.95044886e-122,   0.00000000e+000,   7.72607465e-004,\n",
       "         5.75072531e-001,   4.11255281e-145,   0.00000000e+000,\n",
       "         0.00000000e+000,   7.38791644e-049,   3.05858853e-006,\n",
       "         2.90724136e-002,   0.00000000e+000,   3.04880559e-001,\n",
       "         7.69498249e-084,   0.00000000e+000,   6.05346597e-001,\n",
       "         6.89686381e-072,   5.54131546e-001,   3.68331136e-004,\n",
       "         2.66622126e-124,   1.72954136e-005,   3.49041752e-041,\n",
       "         6.05346597e-001,   0.00000000e+000,   3.45663487e-159,\n",
       "         1.40997806e-003,   7.58339343e-003,   2.40738264e-001,\n",
       "         9.96264494e-003,   8.67591468e-039,   0.00000000e+000,\n",
       "         0.00000000e+000,   9.84458672e-265,   9.62626794e-001,\n",
       "         1.11316744e-155,   0.00000000e+000,   1.61211710e-005,\n",
       "         7.24927357e-043,   0.00000000e+000,   0.00000000e+000,\n",
       "         2.98147705e-285,   9.05456749e-073,   3.08164247e-067,\n",
       "         3.42374769e-060,   3.73861927e-002,   1.70699300e-123,\n",
       "         0.00000000e+000]))"
      ]
     },
     "execution_count": 18,
     "metadata": {},
     "output_type": "execute_result"
    }
   ],
   "source": []
  },
  {
   "cell_type": "code",
   "execution_count": null,
   "metadata": {
    "collapsed": true
   },
   "outputs": [],
   "source": []
  }
 ],
 "metadata": {
  "kernelspec": {
   "display_name": "Python 3",
   "language": "python",
   "name": "python3"
  },
  "language_info": {
   "codemirror_mode": {
    "name": "ipython",
    "version": 3
   },
   "file_extension": ".py",
   "mimetype": "text/x-python",
   "name": "python",
   "nbconvert_exporter": "python",
   "pygments_lexer": "ipython3",
   "version": "3.6.0"
  }
 },
 "nbformat": 4,
 "nbformat_minor": 2
}
